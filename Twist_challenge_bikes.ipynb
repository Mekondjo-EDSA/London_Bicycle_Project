{
  "nbformat": 4,
  "nbformat_minor": 0,
  "metadata": {
    "colab": {
      "name": "Twist_challenge_bikes.ipynb",
      "provenance": [],
      "authorship_tag": "ABX9TyOaRdKF3XtyJU5eFQfMTVLG",
      "include_colab_link": true
    },
    "kernelspec": {
      "name": "python3",
      "display_name": "Python 3"
    },
    "language_info": {
      "name": "python"
    }
  },
  "cells": [
    {
      "cell_type": "markdown",
      "metadata": {
        "id": "view-in-github",
        "colab_type": "text"
      },
      "source": [
        "<a href=\"https://colab.research.google.com/github/Mekondjo-EDSA/London_Bicycle_Project/blob/main/Twist_challenge_bikes.ipynb\" target=\"_parent\"><img src=\"https://colab.research.google.com/assets/colab-badge.svg\" alt=\"Open In Colab\"/></a>"
      ]
    },
    {
      "cell_type": "markdown",
      "source": [
        "## OVERVIEW \n",
        "This notebook shows how to use BigQuery to train a model using SQL"
      ],
      "metadata": {
        "id": "Vl_0z1Sc_jLN"
      }
    },
    {
      "cell_type": "markdown",
      "source": [
        "## SETUP\n"
      ],
      "metadata": {
        "id": "-EYiNubbAn4U"
      }
    },
    {
      "cell_type": "markdown",
      "metadata": {
        "id": "4YsfgDMZW5g6"
      },
      "source": [
        "Set up your GCP project\n",
        "\n",
        "**The following steps are required, regardless of your notebook environment.**\n",
        "\n",
        "1. [Select or create a GCP project.](https://console.cloud.google.com/cloud-resource-manager)\n",
        "2. [Enable the BigQuery Storage API](https://cloud.google.com/bigquery/docs/reference/storage/#enabling_the_api)\n",
        "3. Enter your project ID in the cell below. Then run the  cell to make sure the\n",
        "Cloud SDK uses the right project for all the commands in this notebook.\n"
      ]
    },
    {
      "cell_type": "markdown",
      "metadata": {
        "id": "z3HZwP7iBoST"
      },
      "source": [
        "import required modules"
      ]
    },
    {
      "cell_type": "code",
      "source": [
        "\n",
        "import pandas as pd \n",
        "from sklearn.model_selection import train_test_split\n",
        "from sklearn.ensemble import RandomForestRegressor\n",
        "from matplotlib import pyplot as plt\n",
        "from google.cloud import bigquery"
      ],
      "metadata": {
        "id": "rxBLT85wVKt-"
      },
      "execution_count": null,
      "outputs": []
    },
    {
      "cell_type": "markdown",
      "metadata": {
        "id": "upgCc3gXybsA"
      },
      "source": [
        "Install required Packages, and restart runtime"
      ]
    },
    {
      "cell_type": "code",
      "execution_count": null,
      "metadata": {
        "id": "pv61N02NdgOG"
      },
      "outputs": [],
      "source": [
        "!pip install pip --upgrade 'google-cloud-bigquery[bqstorage,pandas]'\n"
      ]
    },
    {
      "cell_type": "code",
      "source": [
        "%load_ext google.cloud.bigquery"
      ],
      "metadata": {
        "id": "nPXjFalhlZ4l"
      },
      "execution_count": null,
      "outputs": []
    },
    {
      "cell_type": "code",
      "execution_count": null,
      "metadata": {
        "id": "LMNA-vBHPyHz"
      },
      "outputs": [],
      "source": [
        "%load_ext google.colab.data_table"
      ]
    },
    {
      "cell_type": "markdown",
      "source": [
        "Authenticate "
      ],
      "metadata": {
        "id": "InjTGwDTB40B"
      }
    },
    {
      "cell_type": "code",
      "execution_count": null,
      "metadata": {
        "id": "SeTJb51SKs_W",
        "colab": {
          "base_uri": "https://localhost:8080/"
        },
        "outputId": "1eaac817-d532-45f4-b983-e95b79176f20"
      },
      "outputs": [
        {
          "output_type": "stream",
          "name": "stdout",
          "text": [
            "Authenticated\n"
          ]
        }
      ],
      "source": [
        "from google.colab import auth\n",
        "auth.authenticate_user()\n",
        "print('Authenticated')"
      ]
    },
    {
      "cell_type": "markdown",
      "source": [
        "Set project ID and list public datasets available on BigQuery"
      ],
      "metadata": {
        "id": "r9FE-8sDCNTN"
      }
    },
    {
      "cell_type": "code",
      "source": [
        "#variables\n",
        "project_id = 'bigquery-public-data'\n",
        "client = bigquery.Client(project=project_id)\n",
        "for dataset in client.list_datasets():\n",
        "  print(dataset.dataset_id)"
      ],
      "metadata": {
        "id": "6kAkFABzxbRX"
      },
      "execution_count": null,
      "outputs": []
    },
    {
      "cell_type": "markdown",
      "source": [
        "Run some queries to get a feel for the data and how to structure the code"
      ],
      "metadata": {
        "id": "4wuNdvjACv-W"
      }
    },
    {
      "cell_type": "code",
      "source": [
        "%%bigquery --project twist-project-343915\n",
        "\n",
        "SELECT\n",
        "start_station_id, start_station_name, round(AVG(duration),2)duration\n",
        "FROM `bigquery-public-data.london_bicycles.cycle_hire`\n",
        "group by 1,2"
      ],
      "metadata": {
        "id": "5Xbzqdg-SQna"
      },
      "execution_count": null,
      "outputs": []
    },
    {
      "cell_type": "code",
      "source": [
        "%%bigquery --project twist-project-343915\n",
        "\n",
        "SELECT\n",
        "EXTRACT(dayofweek from start_date)dayofweek, round(AVG(duration),2)duration\n",
        "FROM `bigquery-public-data.london_bicycles.cycle_hire`\n",
        "group by 1"
      ],
      "metadata": {
        "id": "Wjs4tn3dXvYx"
      },
      "execution_count": null,
      "outputs": []
    },
    {
      "cell_type": "code",
      "source": [
        "%%bigquery --project twist-project-343915\n",
        "\n",
        "SELECT\n",
        "EXTRACT(hour from start_date)hourofday, round(AVG(duration),2)duration\n",
        "FROM `bigquery-public-data.london_bicycles.cycle_hire`\n",
        "group by 1"
      ],
      "metadata": {
        "id": "0sgf23JoXvVr"
      },
      "execution_count": null,
      "outputs": []
    },
    {
      "cell_type": "code",
      "source": [
        "%%bigquery --project twist-project-343915\n",
        "\n",
        "SELECT\n",
        "bikes_count, AVG(duration) as duration\n",
        "FROM \n",
        "  `bigquery-public-data`.london_bicycles.cycle_hire \n",
        "JOIN \n",
        "  `bigquery-public-data`.london_bicycles.cycle_stations\n",
        "ON \n",
        "  cycle_hire.start_station_name = cycle_stations.name\n",
        "group by 1"
      ],
      "metadata": {
        "id": "RtO2k4EFXvS8"
      },
      "execution_count": null,
      "outputs": []
    },
    {
      "cell_type": "markdown",
      "source": [
        "## Create dataset\n",
        "The following section of code should be run in your Bigquery project in order to create the dataset and model."
      ],
      "metadata": {
        "id": "HHWeFpo-g_VC"
      }
    },
    {
      "cell_type": "code",
      "source": [
        "#create dataset \n",
        "%%bigquery --project twist-project-343915\n",
        "\n",
        "SELECT\n",
        "   EXTRACT(DATE from start_date) AS date,\n",
        "   COUNT(*) AS num_trips\n",
        "FROM\n",
        "  `bigquery-public-data`.london_bicycles.cycle_hire\n",
        "GROUP BY date"
      ],
      "metadata": {
        "id": "Q1VGeie2XvQY"
      },
      "execution_count": null,
      "outputs": []
    },
    {
      "cell_type": "markdown",
      "source": [
        "## Create model"
      ],
      "metadata": {
        "id": "yz9AstHnfBWr"
      }
    },
    {
      "cell_type": "code",
      "source": [
        "#create and train model\n",
        "%%bigquery --project twist-project-343915\n",
        "\n",
        "CREATE OR REPLACE MODEL forcasting_project.london_bike_arima_model\n",
        "OPTIONS\n",
        "  (model_type = 'ARIMA_PLUS', #create ARIMA time series model\n",
        "   time_series_timestamp_col = 'date',\n",
        "   time_series_data_col = 'num_trips'\n",
        "  ) AS\n",
        "SELECT\n",
        "   EXTRACT(DATE from start_date) AS date,\n",
        "   COUNT(*) AS num_trips\n",
        "FROM\n",
        "  `bigquery-public-data`.london_bicycles.cycle_hire\n",
        "GROUP BY date"
      ],
      "metadata": {
        "id": "0RdlYiFfXvL-"
      },
      "execution_count": null,
      "outputs": []
    },
    {
      "cell_type": "markdown",
      "source": [
        "## Forecast the time series\n",
        "Evaluation of the model can be performed in BigQuery or in Colab"
      ],
      "metadata": {
        "id": "77SNezlWDZnh"
      }
    },
    {
      "cell_type": "code",
      "source": [
        "#Evaluate model\n",
        "%%bigquery --project twist-project-343915\n",
        "\n",
        "SELECT\n",
        "  *\n",
        "FROM\n",
        "  ML.EXPLAIN_FORECAST(MODEL forcasting_project.london_bike_arima_model,\n",
        "                      STRUCT(365 AS horizon, 0.9 AS confidence_level))"
      ],
      "metadata": {
        "id": "97-Vxv3qXvDu"
      },
      "execution_count": null,
      "outputs": []
    },
    {
      "cell_type": "markdown",
      "source": [
        "## Create model to forecast multiple time series simultaneously"
      ],
      "metadata": {
        "id": "mW_4Vgm0D6Ie"
      }
    },
    {
      "cell_type": "code",
      "source": [
        "%%bigquery --project twist-project-343915\n",
        "\n",
        "CREATE OR REPLACE MODEL forcasting_project.london_bike_arima_model_group\n",
        "OPTIONS\n",
        "  (model_type = 'ARIMA_PLUS',\n",
        "   time_series_timestamp_col = 'date',\n",
        "   time_series_data_col = 'num_trips',\n",
        "   time_series_id_col = 'start_station_name',\n",
        "   auto_arima_max_order = 5\n",
        "  ) AS\n",
        "SELECT\n",
        "   start_station_name,\n",
        "   EXTRACT(DATE from start_date) AS date,\n",
        "   COUNT(*) AS num_trips\n",
        "FROM\n",
        "  `bigquery-public-data`.london_bicycles.cycle_hire\n",
        "WHERE start_station_name LIKE '%Hyde Park%'\n",
        "GROUP BY start_station_name, date"
      ],
      "metadata": {
        "id": "83_U_SNjXuxO"
      },
      "execution_count": null,
      "outputs": []
    },
    {
      "cell_type": "markdown",
      "source": [
        "## Forecasting multiple time series simultaneously"
      ],
      "metadata": {
        "id": "YESfXxEmibto"
      }
    },
    {
      "cell_type": "code",
      "source": [
        "%%bigquery --project twist-project-343915\n",
        "SELECT\n",
        " *\n",
        "FROM\n",
        " ML.FORECAST(MODEL forcasting_project.london_bike_arima_model_group,\n",
        "                     STRUCT(3 AS horizon, 0.9 AS confidence_level))"
      ],
      "metadata": {
        "id": "fiaskKjQhzdW"
      },
      "execution_count": null,
      "outputs": []
    }
  ]
}